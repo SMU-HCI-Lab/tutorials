{
 "cells": [
  {
   "cell_type": "code",
   "execution_count": 1,
   "id": "polish-teaching",
   "metadata": {},
   "outputs": [],
   "source": [
    "import numpy as np"
   ]
  },
  {
   "cell_type": "markdown",
   "id": "lightweight-burlington",
   "metadata": {},
   "source": [
    "# DCT"
   ]
  },
  {
   "cell_type": "code",
   "execution_count": 2,
   "id": "supreme-eight",
   "metadata": {},
   "outputs": [],
   "source": [
    "x = np.array([50, 51, 52, 55, 56, 54, 53, 52])"
   ]
  },
  {
   "cell_type": "code",
   "execution_count": 24,
   "id": "instructional-reading",
   "metadata": {},
   "outputs": [
    {
     "data": {
      "text/plain": [
       "149.5530842209548"
      ]
     },
     "execution_count": 24,
     "metadata": {},
     "output_type": "execute_result"
    }
   ],
   "source": [
    "# y(k=0)\n",
    "u_0 = np.ones(8) / (2 * np.sqrt(2))\n",
    "np.dot(x, u_0)"
   ]
  },
  {
   "cell_type": "code",
   "execution_count": 66,
   "id": "forty-bookmark",
   "metadata": {},
   "outputs": [
    {
     "data": {
      "text/plain": [
       "array([ 1.49553084e+02, -2.46537029e+00, -4.54014133e+00,  6.22191107e-01,\n",
       "        1.06066017e+00, -1.85610081e-01, -7.98195913e-01,  1.94029389e-02])"
      ]
     },
     "execution_count": 66,
     "metadata": {},
     "output_type": "execute_result"
    }
   ],
   "source": [
    "u_1 = np.cos((2 * np.arange(8) + 1) * np.pi * 1 / 16) / 2 # y(k=1)\n",
    "u_2 = np.cos((2 * np.arange(8) + 1) * np.pi * 2 / 16) / 2 # y(k=2)\n",
    "u_3 = np.cos((2 * np.arange(8) + 1) * np.pi * 3 / 16) / 2 # y(k=3)\n",
    "u_4 = np.cos((2 * np.arange(8) + 1) * np.pi * 4 / 16) / 2 # y(k=4)\n",
    "u_5 = np.cos((2 * np.arange(8) + 1) * np.pi * 5 / 16) / 2 # y(k=5)\n",
    "u_6 = np.cos((2 * np.arange(8) + 1) * np.pi * 6 / 16) / 2 # y(k=6)\n",
    "u_7 = np.cos((2 * np.arange(8) + 1) * np.pi * 7 / 16) / 2 # y(k=7)\n",
    "\n",
    "y = np.dot(x, np.vstack([u_0, u_1, u_2, u_3, u_4, u_5, u_6, u_7]).T)\n",
    "y"
   ]
  },
  {
   "cell_type": "code",
   "execution_count": 67,
   "id": "weird-playlist",
   "metadata": {},
   "outputs": [
    {
     "data": {
      "text/plain": [
       "True"
      ]
     },
     "execution_count": 67,
     "metadata": {},
     "output_type": "execute_result"
    }
   ],
   "source": [
    "np.isclose(np.sum(np.power(x, 2)), np.sum(np.power(y, 2)))"
   ]
  },
  {
   "cell_type": "code",
   "execution_count": 73,
   "id": "acceptable-green",
   "metadata": {},
   "outputs": [],
   "source": [
    "yc = y.copy() # Deep copy\n",
    "yc[3:] = np.zeros(5)"
   ]
  },
  {
   "cell_type": "markdown",
   "id": "wrapped-registrar",
   "metadata": {},
   "source": [
    "# IDCT"
   ]
  },
  {
   "cell_type": "code",
   "execution_count": 74,
   "id": "internal-juvenile",
   "metadata": {},
   "outputs": [
    {
     "data": {
      "text/plain": [
       "(50.398177615535, 50.65218742088154)"
      ]
     },
     "execution_count": 74,
     "metadata": {},
     "output_type": "execute_result"
    }
   ],
   "source": [
    "v_0 = np.ones(8) / (2 * np.sqrt(2))\n",
    "np.dot(yc, v_0), np.dot(y, v_0)"
   ]
  },
  {
   "cell_type": "code",
   "execution_count": 75,
   "id": "quality-isolation",
   "metadata": {},
   "outputs": [],
   "source": [
    "v_1 = np.cos((2 * np.arange(8) + 1) * np.pi * 1 / 16) / 2 # y(k=1)\n",
    "v_2 = np.cos((2 * np.arange(8) + 1) * np.pi * 2 / 16) / 2 # y(k=2)\n",
    "v_3 = np.cos((2 * np.arange(8) + 1) * np.pi * 3 / 16) / 2 # y(k=3)\n",
    "v_4 = np.cos((2 * np.arange(8) + 1) * np.pi * 4 / 16) / 2 # y(k=4)\n",
    "v_5 = np.cos((2 * np.arange(8) + 1) * np.pi * 5 / 16) / 2 # y(k=5)\n",
    "v_6 = np.cos((2 * np.arange(8) + 1) * np.pi * 6 / 16) / 2 # y(k=6)\n",
    "v_7 = np.cos((2 * np.arange(8) + 1) * np.pi * 7 / 16) / 2 # y(k=7)\n",
    "\n",
    "xc_hat = np.dot(yc, np.vstack([v_0, v_1, v_2, v_3, v_4, v_5, v_6, v_7]).T)\n",
    "x_hat = np.dot(y, np.vstack([v_0, v_1, v_2, v_3, v_4, v_5, v_6, v_7]).T)"
   ]
  },
  {
   "cell_type": "code",
   "execution_count": 81,
   "id": "induced-necessity",
   "metadata": {},
   "outputs": [
    {
     "data": {
      "text/plain": [
       "2.1840660650320953"
      ]
     },
     "execution_count": 81,
     "metadata": {},
     "output_type": "execute_result"
    }
   ],
   "source": [
    "np.sum(np.power(xc_hat - x_hat, 2))"
   ]
  },
  {
   "cell_type": "code",
   "execution_count": 82,
   "id": "occasional-theme",
   "metadata": {},
   "outputs": [
    {
     "data": {
      "text/plain": [
       "array([50.39817762, 71.0536079 , 69.48150702, 64.64135931, 55.35182238,\n",
       "       42.30975155, 27.65732455, 13.38552808])"
      ]
     },
     "execution_count": 82,
     "metadata": {},
     "output_type": "execute_result"
    }
   ],
   "source": [
    "xc_hat"
   ]
  },
  {
   "cell_type": "markdown",
   "id": "duplicate-stock",
   "metadata": {},
   "source": [
    "# Synthesis"
   ]
  },
  {
   "cell_type": "code",
   "execution_count": 86,
   "id": "exceptional-navigator",
   "metadata": {},
   "outputs": [
    {
     "data": {
      "text/plain": [
       "11025"
      ]
     },
     "execution_count": 86,
     "metadata": {},
     "output_type": "execute_result"
    }
   ],
   "source": [
    "amps = np.array([0.6, 0.25, 0.1, 0.05])\n",
    "fs = [100, 200, 300, 400]\n",
    "framerate = 11025\n",
    "\n",
    "def synthesize(amps, fs, ts): \n",
    "    args = np.outer(ts, fs)\n",
    "    M = np.cos(2 * np.pi * args)\n",
    "    ys = np.dot(M, amps)\n",
    "    return ys\n",
    "\n",
    "ts = np.linspace(0, 1, framerate)\n",
    "ys = synthesize(amps, fs, ts)\n",
    "len(ys)"
   ]
  },
  {
   "cell_type": "markdown",
   "id": "flush-jurisdiction",
   "metadata": {},
   "source": [
    "# Analysis"
   ]
  },
  {
   "cell_type": "code",
   "execution_count": 89,
   "id": "joint-network",
   "metadata": {},
   "outputs": [
    {
     "data": {
      "text/plain": [
       "array([0.6 , 0.25, 0.1 , 0.05])"
      ]
     },
     "execution_count": 89,
     "metadata": {},
     "output_type": "execute_result"
    }
   ],
   "source": [
    "def analyze(ys, fs, ts):\n",
    "    args = np.outer(ts, fs)\n",
    "    M = np.cos(2 * np.pi * args)\n",
    "    amps = np.linalg.solve(M, ys)\n",
    "    return amps\n",
    "\n",
    "n = len(fs)\n",
    "amps2 = analyze(ys[:n], fs, ts[:n])\n",
    "amps2"
   ]
  },
  {
   "cell_type": "code",
   "execution_count": null,
   "id": "usual-hepatitis",
   "metadata": {},
   "outputs": [],
   "source": []
  }
 ],
 "metadata": {
  "kernelspec": {
   "display_name": "Python 3",
   "language": "python",
   "name": "python3"
  },
  "language_info": {
   "codemirror_mode": {
    "name": "ipython",
    "version": 3
   },
   "file_extension": ".py",
   "mimetype": "text/x-python",
   "name": "python",
   "nbconvert_exporter": "python",
   "pygments_lexer": "ipython3",
   "version": "3.8.8"
  }
 },
 "nbformat": 4,
 "nbformat_minor": 5
}
