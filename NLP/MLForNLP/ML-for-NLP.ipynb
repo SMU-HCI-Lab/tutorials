{
 "cells": [
  {
   "cell_type": "markdown",
   "id": "informal-healing",
   "metadata": {},
   "source": [
    "# ML for NLP\n",
    "\n",
    "We will use the News Aggregator Dataset provided by Fabio Gasparetti. Download and unpack it. Create a `data` folder and place the unpacked files there."
   ]
  },
  {
   "cell_type": "markdown",
   "id": "worldwide-expert",
   "metadata": {},
   "source": [
    "# Data Preprocessing"
   ]
  },
  {
   "cell_type": "code",
   "execution_count": 6,
   "id": "central-parish",
   "metadata": {},
   "outputs": [],
   "source": [
    "import pandas as pd\n",
    "import numpy as np"
   ]
  },
  {
   "cell_type": "code",
   "execution_count": 7,
   "id": "australian-barbados",
   "metadata": {},
   "outputs": [],
   "source": [
    "filename = \"./data/newsCorpora.csv\"\n",
    "names = [\"id\", \"title\", \"url\", \"publisher\", \"category\", \"story\", \"hostname\", \"timestamp\"]\n",
    "df = pd.read_csv(filename, sep='\\t', names=names)"
   ]
  },
  {
   "cell_type": "code",
   "execution_count": 8,
   "id": "advanced-cardiff",
   "metadata": {},
   "outputs": [],
   "source": [
    "publishers = [\"Reuters\", \"Huffington Post\", \"Businessweek\", \"Contactmusic.com\", \"Daily Mail\"]\n",
    "fdf = df[df.publisher.isin(publishers)]"
   ]
  },
  {
   "cell_type": "code",
   "execution_count": 9,
   "id": "linear-arthritis",
   "metadata": {},
   "outputs": [],
   "source": [
    "# Shuffle: https://stackoverflow.com/questions/29576430/shuffle-dataframe-rows\n",
    "from sklearn.utils import shuffle\n",
    "\n",
    "sdf = shuffle(fdf)\n",
    "ratio_1 = int(len(sdf) / 10 * 8)\n",
    "ratio_2 = int(len(sdf) / 10 * 9)"
   ]
  },
  {
   "cell_type": "code",
   "execution_count": 10,
   "id": "robust-estate",
   "metadata": {},
   "outputs": [
    {
     "name": "stdout",
     "output_type": "stream",
     "text": [
      "10672 : 1334 : 1334\n",
      "0.8 : 0.1 : 0.1\n"
     ]
    }
   ],
   "source": [
    "training = sdf[:ratio_1]\n",
    "validation = sdf[ratio_1:ratio_2]\n",
    "test = sdf[ratio_2:]\n",
    "print(\"{} : {} : {}\".format(len(training), len(validation), len(test)))\n",
    "print(\"{} : {} : {}\".format(len(training) / len(sdf), len(validation) / len(sdf), len(test) / len(sdf)))"
   ]
  },
  {
   "cell_type": "code",
   "execution_count": 11,
   "id": "wrapped-norwegian",
   "metadata": {},
   "outputs": [],
   "source": [
    "tr_filename = \"./data/train.txt\"\n",
    "va_filename = \"./data/valid.txt\"\n",
    "te_filename = \"./data/test.txt\"\n",
    "\n",
    "training.to_csv(tr_filename, sep=\"\\t\", header=False, index=False)\n",
    "validation.to_csv(va_filename, sep=\"\\t\", header=False, index=False)\n",
    "test.to_csv(te_filename, sep=\"\\t\", header=False, index=False)"
   ]
  },
  {
   "cell_type": "markdown",
   "id": "fresh-campus",
   "metadata": {},
   "source": [
    "# Feature Extraction\n",
    "\n",
    "* https://scikit-learn.org/stable/modules/feature_extraction.html"
   ]
  },
  {
   "cell_type": "code",
   "execution_count": 12,
   "id": "5787fdd9",
   "metadata": {},
   "outputs": [],
   "source": [
    "from sklearn.feature_extraction.text import CountVectorizer\n",
    "vectorizer = CountVectorizer()"
   ]
  },
  {
   "cell_type": "code",
   "execution_count": 13,
   "id": "be9bab3c",
   "metadata": {},
   "outputs": [],
   "source": [
    "tr = vectorizer.fit_transform(training.title)\n",
    "va = vectorizer.transform(validation.title)\n",
    "te = vectorizer.transform(test.title)"
   ]
  },
  {
   "cell_type": "code",
   "execution_count": 116,
   "id": "ed5e95ed",
   "metadata": {},
   "outputs": [],
   "source": [
    "feature_names = vectorizer.get_feature_names()"
   ]
  },
  {
   "cell_type": "markdown",
   "id": "adolescent-tattoo",
   "metadata": {},
   "source": [
    "# Training and Prediction\n",
    "\n",
    "* https://scikit-learn.org/stable/modules/generated/sklearn.linear_model.LogisticRegression.html"
   ]
  },
  {
   "cell_type": "code",
   "execution_count": 14,
   "id": "retained-guyana",
   "metadata": {},
   "outputs": [
    {
     "name": "stderr",
     "output_type": "stream",
     "text": [
      "/opt/conda/lib/python3.9/site-packages/sklearn/linear_model/_logistic.py:763: ConvergenceWarning: lbfgs failed to converge (status=1):\n",
      "STOP: TOTAL NO. of ITERATIONS REACHED LIMIT.\n",
      "\n",
      "Increase the number of iterations (max_iter) or scale the data as shown in:\n",
      "    https://scikit-learn.org/stable/modules/preprocessing.html\n",
      "Please also refer to the documentation for alternative solver options:\n",
      "    https://scikit-learn.org/stable/modules/linear_model.html#logistic-regression\n",
      "  n_iter_i = _check_optimize_result(\n"
     ]
    }
   ],
   "source": [
    "from sklearn.linear_model import LogisticRegression\n",
    "clf = LogisticRegression(random_state=0).fit(tr, training.category)"
   ]
  },
  {
   "cell_type": "code",
   "execution_count": 61,
   "id": "fc226cbe",
   "metadata": {},
   "outputs": [],
   "source": [
    "tr_pred = clf.predict(tr)\n",
    "va_pred = clf.predict(va)\n",
    "te_pred = clf.predict(te)"
   ]
  },
  {
   "cell_type": "markdown",
   "id": "32819621",
   "metadata": {},
   "source": [
    "# Accuracy\n",
    "* https://scikit-learn.org/stable/modules/generated/sklearn.metrics.accuracy_score.html"
   ]
  },
  {
   "cell_type": "code",
   "execution_count": 16,
   "id": "838a7daa",
   "metadata": {},
   "outputs": [],
   "source": [
    "from sklearn.metrics import accuracy_score"
   ]
  },
  {
   "cell_type": "code",
   "execution_count": 17,
   "id": "364f11ab",
   "metadata": {},
   "outputs": [],
   "source": [
    "training_accuracy = accuracy_score(training.category, tr_pred)\n",
    "validation_accuracy = accuracy_score(validation.category, va_pred)\n",
    "test_accuracy = accuracy_score(test.category, te_pred)"
   ]
  },
  {
   "cell_type": "code",
   "execution_count": 18,
   "id": "afb16135",
   "metadata": {},
   "outputs": [
    {
     "data": {
      "text/plain": [
       "'1.00, 0.91, 0.90'"
      ]
     },
     "execution_count": 18,
     "metadata": {},
     "output_type": "execute_result"
    }
   ],
   "source": [
    "\"{:.2f}, {:.2f}, {:.2f}\".format(training_accuracy, validation_accuracy, test_accuracy)"
   ]
  },
  {
   "cell_type": "markdown",
   "id": "75898173",
   "metadata": {},
   "source": [
    "# Confusion Matrix\n",
    "* https://scikit-learn.org/stable/auto_examples/model_selection/plot_confusion_matrix.html"
   ]
  },
  {
   "cell_type": "code",
   "execution_count": 19,
   "id": "5ec95ad4",
   "metadata": {},
   "outputs": [],
   "source": [
    "from sklearn.metrics import plot_confusion_matrix"
   ]
  },
  {
   "cell_type": "code",
   "execution_count": 20,
   "id": "42041a05",
   "metadata": {},
   "outputs": [
    {
     "data": {
      "text/plain": [
       "<sklearn.metrics._plot.confusion_matrix.ConfusionMatrixDisplay at 0x7fc1eca3f4f0>"
      ]
     },
     "execution_count": 20,
     "metadata": {},
     "output_type": "execute_result"
    },
    {
     "data": {
      "image/png": "[encoded data removed]",
      "text/plain": [
       "<Figure size 432x288 with 2 Axes>"
      ]
     },
     "metadata": {
      "needs_background": "light"
     },
     "output_type": "display_data"
    }
   ],
   "source": [
    "plot_confusion_matrix(clf, tr, training.category) "
   ]
  },
  {
   "cell_type": "code",
   "execution_count": 21,
   "id": "052f31ad",
   "metadata": {},
   "outputs": [
    {
     "data": {
      "text/plain": [
       "<sklearn.metrics._plot.confusion_matrix.ConfusionMatrixDisplay at 0x7fc1ef4b1fa0>"
      ]
     },
     "execution_count": 21,
     "metadata": {},
     "output_type": "execute_result"
    },
    {
     "data": {
      "image/png": "[encoded data removed]",
      "text/plain": [
       "<Figure size 432x288 with 2 Axes>"
      ]
     },
     "metadata": {
      "needs_background": "light"
     },
     "output_type": "display_data"
    }
   ],
   "source": [
    "plot_confusion_matrix(clf, te, test.category) "
   ]
  },
  {
   "cell_type": "markdown",
   "id": "8d0379cd",
   "metadata": {},
   "source": [
    "# Precision, Recall, and F1 Score\n",
    "\n",
    "* https://scikit-learn.org/stable/auto_examples/model_selection/plot_precision_recall.html"
   ]
  },
  {
   "cell_type": "code",
   "execution_count": 75,
   "id": "bda6c3a2",
   "metadata": {},
   "outputs": [],
   "source": [
    "from sklearn.metrics import precision_score, recall_score, f1_score"
   ]
  },
  {
   "cell_type": "code",
   "execution_count": 76,
   "id": "45e6475e",
   "metadata": {},
   "outputs": [],
   "source": [
    "labels = ['b', 'e', 'm', 't']"
   ]
  },
  {
   "cell_type": "code",
   "execution_count": 80,
   "id": "844b8481",
   "metadata": {},
   "outputs": [
    {
     "name": "stdout",
     "output_type": "stream",
     "text": [
      "b, pr: 1.00, re: 0.93, f1: 0.97\n",
      "e, pr: 1.00, re: 0.96, f1: 0.98\n",
      "m, pr: 1.00, re: 0.62, f1: 0.76\n",
      "t, pr: 1.00, re: 0.69, f1: 0.82\n"
     ]
    }
   ],
   "source": [
    "for label in labels:\n",
    "    idx = test.category == label\n",
    "    _true = test.category[idx] == label\n",
    "    _true = _true.astype(int)\n",
    "    _pred = te_pred[idx] == label\n",
    "    _pred = _pred.astype(int)\n",
    "    pr = precision_score(_true, _pred)\n",
    "    re = recall_score(_true, _pred)\n",
    "    f1 = f1_score(_true, _pred)\n",
    "    out = \"{}, pr: {:.2f}, re: {:.2f}, f1: {:.2f}\".format(label, pr, re, f1)\n",
    "    print(out)"
   ]
  },
  {
   "cell_type": "code",
   "execution_count": 85,
   "id": "a09ff5a7",
   "metadata": {},
   "outputs": [
    {
     "name": "stdout",
     "output_type": "stream",
     "text": [
      "Micro-average. pr: 0.90, re: 0.90, f1: 0.90\n",
      "Macro-average. pr: 0.87, re: 0.80, f1: 0.83\n"
     ]
    }
   ],
   "source": [
    "# https://scikit-learn.org/stable/modules/generated/sklearn.metrics.f1_score.html\n",
    "micro_f1 = f1_score(test.category, te_pred, average='micro')\n",
    "micro_pr = precision_score(test.category, te_pred, average='micro')\n",
    "micro_re = recall_score(test.category, te_pred, average='micro')\n",
    "out = \"Micro-average. pr: {:.2f}, re: {:.2f}, f1: {:.2f}\".format(micro_pr, micro_re, micro_f1)\n",
    "print(out)\n",
    "\n",
    "macro_f1 = f1_score(test.category, te_pred, average='macro')\n",
    "macro_pr = precision_score(test.category, te_pred, average='macro')\n",
    "macro_re = recall_score(test.category, te_pred, average='macro')\n",
    "out = \"Macro-average. pr: {:.2f}, re: {:.2f}, f1: {:.2f}\".format(macro_pr, macro_re, macro_f1)\n",
    "print(out)"
   ]
  },
  {
   "cell_type": "markdown",
   "id": "76b9874b",
   "metadata": {},
   "source": [
    "# Feature Weights\n",
    "\n",
    "* https://stackoverflow.com/a/51465357/684592"
   ]
  },
  {
   "cell_type": "code",
   "execution_count": 87,
   "id": "0ea13459",
   "metadata": {},
   "outputs": [
    {
     "data": {
      "text/plain": [
       "array([[ 0.19489133,  0.00448646,  0.00348532, ..., -0.05603126,\n",
       "        -0.05193079, -0.00150825],\n",
       "       [-0.10559604, -0.00210336, -0.00077609, ...,  0.11513483,\n",
       "         0.09266552,  0.00578923],\n",
       "       [-0.04752614, -0.00158014, -0.00072162, ..., -0.01737215,\n",
       "        -0.02380647, -0.00129844],\n",
       "       [-0.04176915, -0.00080295, -0.00198761, ..., -0.04173142,\n",
       "        -0.01692826, -0.00298254]])"
      ]
     },
     "execution_count": 87,
     "metadata": {},
     "output_type": "execute_result"
    }
   ],
   "source": [
    "clf.coef_"
   ]
  },
  {
   "cell_type": "code",
   "execution_count": 135,
   "id": "4432a3c5",
   "metadata": {},
   "outputs": [],
   "source": [
    "abs_weights = np.abs(clf.coef_)\n",
    "weights_0 = abs_weights[0]"
   ]
  },
  {
   "cell_type": "code",
   "execution_count": 136,
   "id": "005c3a6f",
   "metadata": {},
   "outputs": [],
   "source": [
    "# For the first class\n",
    "sorted_index_0 = np.argsort(weights_0)[::-1]"
   ]
  },
  {
   "cell_type": "code",
   "execution_count": 137,
   "id": "857f6685",
   "metadata": {},
   "outputs": [
    {
     "name": "stdout",
     "output_type": "stream",
     "text": [
      "['bank' 'fed' 'ukraine' 'ecb' 'china' 'dollar' 'profit' 'obamacare'\n",
      " 'yellen' 'stocks']\n",
      "[0.19489133 0.00448646 0.00348532 0.06534941 0.22132312 0.03723387\n",
      " 0.01367796 0.04995409 0.0283783  0.0032133 ]\n"
     ]
    }
   ],
   "source": [
    "feature_names = np.array(feature_names)\n",
    "print(feature_names[sorted_index_0[:10]])\n",
    "print(weights_0[:10])"
   ]
  },
  {
   "cell_type": "markdown",
   "id": "0e1c7f66",
   "metadata": {},
   "source": [
    "# Regularization\n",
    "\n",
    "* L1, L2, Elastic, and None. https://scikit-learn.org/stable/modules/generated/sklearn.linear_model.LogisticRegression.html#sklearn-linear-model-logisticregression"
   ]
  },
  {
   "cell_type": "code",
   "execution_count": 139,
   "id": "f584838c",
   "metadata": {},
   "outputs": [
    {
     "name": "stderr",
     "output_type": "stream",
     "text": [
      "/opt/conda/lib/python3.9/site-packages/sklearn/linear_model/_logistic.py:763: ConvergenceWarning: lbfgs failed to converge (status=1):\n",
      "STOP: TOTAL NO. of ITERATIONS REACHED LIMIT.\n",
      "\n",
      "Increase the number of iterations (max_iter) or scale the data as shown in:\n",
      "    https://scikit-learn.org/stable/modules/preprocessing.html\n",
      "Please also refer to the documentation for alternative solver options:\n",
      "    https://scikit-learn.org/stable/modules/linear_model.html#logistic-regression\n",
      "  n_iter_i = _check_optimize_result(\n",
      "/opt/conda/lib/python3.9/site-packages/sklearn/linear_model/_logistic.py:763: ConvergenceWarning: lbfgs failed to converge (status=1):\n",
      "STOP: TOTAL NO. of ITERATIONS REACHED LIMIT.\n",
      "\n",
      "Increase the number of iterations (max_iter) or scale the data as shown in:\n",
      "    https://scikit-learn.org/stable/modules/preprocessing.html\n",
      "Please also refer to the documentation for alternative solver options:\n",
      "    https://scikit-learn.org/stable/modules/linear_model.html#logistic-regression\n",
      "  n_iter_i = _check_optimize_result(\n",
      "/opt/conda/lib/python3.9/site-packages/sklearn/linear_model/_logistic.py:763: ConvergenceWarning: lbfgs failed to converge (status=1):\n",
      "STOP: TOTAL NO. of ITERATIONS REACHED LIMIT.\n",
      "\n",
      "Increase the number of iterations (max_iter) or scale the data as shown in:\n",
      "    https://scikit-learn.org/stable/modules/preprocessing.html\n",
      "Please also refer to the documentation for alternative solver options:\n",
      "    https://scikit-learn.org/stable/modules/linear_model.html#logistic-regression\n",
      "  n_iter_i = _check_optimize_result(\n",
      "/opt/conda/lib/python3.9/site-packages/sklearn/linear_model/_sag.py:328: ConvergenceWarning: The max_iter was reached which means the coef_ did not converge\n",
      "  warnings.warn(\"The max_iter was reached which means \"\n"
     ]
    }
   ],
   "source": [
    "clf_none = LogisticRegression(penalty='none', random_state=0).fit(tr, training.category)\n",
    "clf_l1 = LogisticRegression(penalty='none', random_state=0).fit(tr, training.category)\n",
    "clf_l2 = LogisticRegression(penalty='none', random_state=0).fit(tr, training.category)\n",
    "clf_elasticnet = LogisticRegression(penalty='elasticnet', random_state=0, l1_ratio=0.5, solver='saga').fit(tr, training.category)"
   ]
  },
  {
   "cell_type": "code",
   "execution_count": 140,
   "id": "0c5380fd",
   "metadata": {},
   "outputs": [],
   "source": [
    "te_pred_none = clf_none.predict(te)\n",
    "te_pred_l1 = clf_l1.predict(te)\n",
    "te_pred_l2 = clf_l2.predict(te)\n",
    "te_pred_elasticnet = clf_elasticnet.predict(te)"
   ]
  },
  {
   "cell_type": "code",
   "execution_count": 145,
   "id": "6accbaca",
   "metadata": {},
   "outputs": [],
   "source": [
    "te_acc_none = accuracy_score(test.category, te_pred_none)\n",
    "te_acc_l1 = accuracy_score(test.category, te_pred_l1)\n",
    "te_acc_l2 = accuracy_score(test.category, te_pred_l2)\n",
    "te_acc_elasticnet = accuracy_score(test.category, te_pred_elasticnet)"
   ]
  },
  {
   "cell_type": "code",
   "execution_count": 148,
   "id": "a3ad6aa6",
   "metadata": {},
   "outputs": [
    {
     "name": "stdout",
     "output_type": "stream",
     "text": [
      "Accuracy: none: 0.89, l1: 0.89, l2: 0.89, elasticnet: 0.89\n"
     ]
    }
   ],
   "source": [
    "out = \"Accuracy: none: {:.2f}, l1: {:.2f}, l2: {:.2f}, elasticnet: {:.2f}\".format(\n",
    "    te_acc_none, \n",
    "    te_acc_l1, \n",
    "    te_acc_l2, \n",
    "    te_acc_elasticnet)\n",
    "print(out)"
   ]
  },
  {
   "cell_type": "markdown",
   "id": "7f9bfd5d",
   "metadata": {},
   "source": [
    "# Hyper-parameter Tuning"
   ]
  },
  {
   "cell_type": "code",
   "execution_count": null,
   "id": "f7da035a",
   "metadata": {},
   "outputs": [],
   "source": []
  }
 ],
 "metadata": {
  "kernelspec": {
   "display_name": "Python 3",
   "language": "python",
   "name": "python3"
  },
  "language_info": {
   "codemirror_mode": {
    "name": "ipython",
    "version": 3
   },
   "file_extension": ".py",
   "mimetype": "text/x-python",
   "name": "python",
   "nbconvert_exporter": "python",
   "pygments_lexer": "ipython3",
   "version": "3.9.2"
  }
 },
 "nbformat": 4,
 "nbformat_minor": 5
}
