{
 "cells": [
  {
   "cell_type": "markdown",
   "id": "informal-healing",
   "metadata": {},
   "source": [
    "# ML for NLP\n",
    "\n",
    "We will use the News Aggregator Dataset provided by Fabio Gasparetti. Download and unpack it. Create a `data` folder and place the unpacked files there."
   ]
  },
  {
   "cell_type": "markdown",
   "id": "worldwide-expert",
   "metadata": {},
   "source": [
    "# Data Preprocessing"
   ]
  },
  {
   "cell_type": "code",
   "execution_count": 36,
   "id": "central-parish",
   "metadata": {},
   "outputs": [],
   "source": [
    "import pandas as pd"
   ]
  },
  {
   "cell_type": "code",
   "execution_count": 37,
   "id": "australian-barbados",
   "metadata": {},
   "outputs": [],
   "source": [
    "filename = \"./data/newsCorpora.csv\"\n",
    "names = [\"id\", \"title\", \"url\", \"publisher\", \"category\", \"story\", \"hostname\", \"timestamp\"]\n",
    "df = pd.read_csv(filename, sep='\\t', names=names)"
   ]
  },
  {
   "cell_type": "code",
   "execution_count": 38,
   "id": "advanced-cardiff",
   "metadata": {},
   "outputs": [],
   "source": [
    "publishers = [\"Reuters\", \"Huffington Post\", \"Businessweek\", \"Contactmusic.com\", \"Daily Mail\"]\n",
    "fdf = df[df.publisher.isin(publishers)]"
   ]
  },
  {
   "cell_type": "code",
   "execution_count": 39,
   "id": "linear-arthritis",
   "metadata": {},
   "outputs": [],
   "source": [
    "# Shuffle: https://stackoverflow.com/questions/29576430/shuffle-dataframe-rows\n",
    "from sklearn.utils import shuffle\n",
    "\n",
    "sdf = shuffle(fdf)\n",
    "ratio_1 = int(len(sdf) / 10 * 8)\n",
    "ratio_2 = int(len(sdf) / 10 * 9)"
   ]
  },
  {
   "cell_type": "code",
   "execution_count": 42,
   "id": "hollow-identity",
   "metadata": {},
   "outputs": [
    {
     "name": "stdout",
     "output_type": "stream",
     "text": [
      "10672 : 1334 : 1334\n",
      "0.8 : 0.1 : 0.1\n"
     ]
    }
   ],
   "source": [
    "training = sdf[:ratio_1]\n",
    "validation = sdf[ratio_1:ratio_2]\n",
    "test = sdf[ratio_2:]\n",
    "print(\"{} : {} : {}\".format(len(training), len(validation), len(test)))\n",
    "print(\"{} : {} : {}\".format(len(training) / len(sdf), len(validation) / len(sdf), len(test) / len(sdf)))"
   ]
  },
  {
   "cell_type": "code",
   "execution_count": 45,
   "id": "amazing-secretary",
   "metadata": {},
   "outputs": [],
   "source": [
    "tr_filename = \"./data/train.txt\"\n",
    "va_filename = \"./data/valid.txt\"\n",
    "te_filename = \"./data/test.txt\"\n",
    "\n",
    "training.to_csv(tr_filename, sep=\"\\t\", header=False, index=False)\n",
    "validation.to_csv(va_filename, sep=\"\\t\", header=False, index=False)\n",
    "test.to_csv(te_filename, sep=\"\\t\", header=False, index=False)"
   ]
  },
  {
   "cell_type": "code",
   "execution_count": null,
   "id": "handled-original",
   "metadata": {},
   "outputs": [],
   "source": []
  }
 ],
 "metadata": {
  "kernelspec": {
   "display_name": "Python 3",
   "language": "python",
   "name": "python3"
  },
  "language_info": {
   "codemirror_mode": {
    "name": "ipython",
    "version": 3
   },
   "file_extension": ".py",
   "mimetype": "text/x-python",
   "name": "python",
   "nbconvert_exporter": "python",
   "pygments_lexer": "ipython3",
   "version": "3.8.8"
  }
 },
 "nbformat": 4,
 "nbformat_minor": 5
}
