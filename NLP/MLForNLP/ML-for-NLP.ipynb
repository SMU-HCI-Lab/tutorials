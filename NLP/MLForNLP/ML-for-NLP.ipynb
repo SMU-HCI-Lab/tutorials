{
 "cells": [
  {
   "cell_type": "markdown",
   "id": "informal-healing",
   "metadata": {},
   "source": [
    "# ML for NLP\n",
    "\n",
    "We will use the News Aggregator Dataset provided by Fabio Gasparetti. Download and unpack it. Create a `data` folder and place the unpacked files there."
   ]
  },
  {
   "cell_type": "markdown",
   "id": "worldwide-expert",
   "metadata": {},
   "source": [
    "# Data Preprocessing"
   ]
  },
  {
   "cell_type": "code",
   "execution_count": 22,
   "id": "central-parish",
   "metadata": {},
   "outputs": [],
   "source": [
    "import pandas as pd\n",
    "import numpy as np"
   ]
  },
  {
   "cell_type": "code",
   "execution_count": 2,
   "id": "australian-barbados",
   "metadata": {},
   "outputs": [],
   "source": [
    "filename = \"./data/newsCorpora.csv\"\n",
    "names = [\"id\", \"title\", \"url\", \"publisher\", \"category\", \"story\", \"hostname\", \"timestamp\"]\n",
    "df = pd.read_csv(filename, sep='\\t', names=names)"
   ]
  },
  {
   "cell_type": "code",
   "execution_count": 7,
   "id": "advanced-cardiff",
   "metadata": {},
   "outputs": [],
   "source": [
    "publishers = [\"Reuters\", \"Huffington Post\", \"Businessweek\", \"Contactmusic.com\", \"Daily Mail\"]\n",
    "fdf = df[df.publisher.isin(publishers)]"
   ]
  },
  {
   "cell_type": "code",
   "execution_count": 8,
   "id": "linear-arthritis",
   "metadata": {},
   "outputs": [],
   "source": [
    "# Shuffle: https://stackoverflow.com/questions/29576430/shuffle-dataframe-rows\n",
    "from sklearn.utils import shuffle\n",
    "\n",
    "sdf = shuffle(fdf)\n",
    "ratio_1 = int(len(sdf) / 10 * 8)\n",
    "ratio_2 = int(len(sdf) / 10 * 9)"
   ]
  },
  {
   "cell_type": "code",
   "execution_count": 9,
   "id": "robust-estate",
   "metadata": {},
   "outputs": [
    {
     "name": "stdout",
     "output_type": "stream",
     "text": [
      "10672 : 1334 : 1334\n",
      "0.8 : 0.1 : 0.1\n"
     ]
    }
   ],
   "source": [
    "training = sdf[:ratio_1]\n",
    "validation = sdf[ratio_1:ratio_2]\n",
    "test = sdf[ratio_2:]\n",
    "print(\"{} : {} : {}\".format(len(training), len(validation), len(test)))\n",
    "print(\"{} : {} : {}\".format(len(training) / len(sdf), len(validation) / len(sdf), len(test) / len(sdf)))"
   ]
  },
  {
   "cell_type": "code",
   "execution_count": 10,
   "id": "wrapped-norwegian",
   "metadata": {},
   "outputs": [],
   "source": [
    "tr_filename = \"./data/train.txt\"\n",
    "va_filename = \"./data/valid.txt\"\n",
    "te_filename = \"./data/test.txt\"\n",
    "\n",
    "training.to_csv(tr_filename, sep=\"\\t\", header=False, index=False)\n",
    "validation.to_csv(va_filename, sep=\"\\t\", header=False, index=False)\n",
    "test.to_csv(te_filename, sep=\"\\t\", header=False, index=False)"
   ]
  },
  {
   "cell_type": "markdown",
   "id": "fresh-campus",
   "metadata": {},
   "source": [
    "# Feature Extraction\n",
    "\n",
    "* https://scikit-learn.org/stable/modules/feature_extraction.html"
   ]
  },
  {
   "cell_type": "code",
   "execution_count": 14,
   "id": "5787fdd9",
   "metadata": {},
   "outputs": [],
   "source": [
    "from sklearn.feature_extraction.text import CountVectorizer\n",
    "vectorizer = CountVectorizer()"
   ]
  },
  {
   "cell_type": "code",
   "execution_count": 29,
   "id": "be9bab3c",
   "metadata": {},
   "outputs": [],
   "source": [
    "tr = vectorizer.fit_transform(training.title)\n",
    "va = vectorizer.transform(validation.title)\n",
    "te = vectorizer.transform(test.title)"
   ]
  },
  {
   "cell_type": "markdown",
   "id": "adolescent-tattoo",
   "metadata": {},
   "source": [
    "# Training and Prediction\n",
    "\n",
    "* https://scikit-learn.org/stable/modules/generated/sklearn.linear_model.LogisticRegression.html"
   ]
  },
  {
   "cell_type": "code",
   "execution_count": 34,
   "id": "retained-guyana",
   "metadata": {},
   "outputs": [],
   "source": [
    "from sklearn.linear_model import LogisticRegression\n",
    "clf = LogisticRegression(random_state=0).fit(tr, training.category)"
   ]
  },
  {
   "cell_type": "code",
   "execution_count": 39,
   "id": "fc226cbe",
   "metadata": {},
   "outputs": [],
   "source": [
    "tr_pred = clf.predict(tr)\n",
    "va_pred = clf.predict(va)\n",
    "te_pred = clf.predict(te)"
   ]
  },
  {
   "cell_type": "markdown",
   "id": "32819621",
   "metadata": {},
   "source": [
    "# Accuracy\n",
    "* https://scikit-learn.org/stable/modules/generated/sklearn.metrics.accuracy_score.html"
   ]
  },
  {
   "cell_type": "code",
   "execution_count": 40,
   "id": "838a7daa",
   "metadata": {},
   "outputs": [],
   "source": [
    "from sklearn.metrics import accuracy_score"
   ]
  },
  {
   "cell_type": "code",
   "execution_count": 44,
   "id": "364f11ab",
   "metadata": {},
   "outputs": [],
   "source": [
    "training_accuracy = accuracy_score(training.category, tr_pred)\n",
    "validation_accuracy = accuracy_score(validation.category, va_pred)\n",
    "test_accuracy = accuracy_score(test.category, te_pred)"
   ]
  },
  {
   "cell_type": "code",
   "execution_count": 46,
   "id": "afb16135",
   "metadata": {},
   "outputs": [
    {
     "data": {
      "text/plain": [
       "'1.00, 0.91, 0.92'"
      ]
     },
     "execution_count": 46,
     "metadata": {},
     "output_type": "execute_result"
    }
   ],
   "source": [
    "\"{:.2f}, {:.2f}, {:.2f}\".format(training_accuracy, validation_accuracy, test_accuracy)"
   ]
  },
  {
   "cell_type": "markdown",
   "id": "75898173",
   "metadata": {},
   "source": [
    "# Confusion Matrix\n",
    "* https://scikit-learn.org/stable/auto_examples/model_selection/plot_confusion_matrix.html"
   ]
  },
  {
   "cell_type": "code",
   "execution_count": 47,
   "id": "5ec95ad4",
   "metadata": {},
   "outputs": [],
   "source": [
    "from sklearn.metrics import plot_confusion_matrix"
   ]
  },
  {
   "cell_type": "code",
   "execution_count": 49,
   "id": "42041a05",
   "metadata": {},
   "outputs": [
    {
     "data": {
      "text/plain": [
       "<sklearn.metrics._plot.confusion_matrix.ConfusionMatrixDisplay at 0x7fef3969ee50>"
      ]
     },
     "execution_count": 49,
     "metadata": {},
     "output_type": "execute_result"
    },
    {
     "data": {
      "image/png": "[encoded data removed]",
      "text/plain": [
       "<Figure size 432x288 with 2 Axes>"
      ]
     },
     "metadata": {
      "needs_background": "light"
     },
     "output_type": "display_data"
    }
   ],
   "source": [
    "plot_confusion_matrix(clf, tr, training.category) "
   ]
  },
  {
   "cell_type": "code",
   "execution_count": 48,
   "id": "052f31ad",
   "metadata": {},
   "outputs": [
    {
     "data": {
      "text/plain": [
       "<sklearn.metrics._plot.confusion_matrix.ConfusionMatrixDisplay at 0x7feef5e238b0>"
      ]
     },
     "execution_count": 48,
     "metadata": {},
     "output_type": "execute_result"
    },
    {
     "data": {
      "image/png": "[encoded data removed]",
      "text/plain": [
       "<Figure size 432x288 with 2 Axes>"
      ]
     },
     "metadata": {
      "needs_background": "light"
     },
     "output_type": "display_data"
    }
   ],
   "source": [
    "plot_confusion_matrix(clf, te, test.category) "
   ]
  },
  {
   "cell_type": "code",
   "execution_count": null,
   "id": "8fcc32e5",
   "metadata": {},
   "outputs": [],
   "source": [
    "# Precision, Recall, and F1 Score"
   ]
  }
 ],
 "metadata": {
  "kernelspec": {
   "display_name": "Python 3",
   "language": "python",
   "name": "python3"
  },
  "language_info": {
   "codemirror_mode": {
    "name": "ipython",
    "version": 3
   },
   "file_extension": ".py",
   "mimetype": "text/x-python",
   "name": "python",
   "nbconvert_exporter": "python",
   "pygments_lexer": "ipython3",
   "version": "3.9.2"
  }
 },
 "nbformat": 4,
 "nbformat_minor": 5
}
